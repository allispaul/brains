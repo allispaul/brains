{
 "cells": [
  {
   "cell_type": "code",
   "execution_count": 1,
   "id": "3865af71",
   "metadata": {
    "_cell_guid": "b1076dfc-b9ad-4769-8c92-a6c4dae69d19",
    "_uuid": "8f2839f25d086af736a60e9eeb907d3b93b6e0e5",
    "execution": {
     "iopub.execute_input": "2024-03-12T20:40:31.111201Z",
     "iopub.status.busy": "2024-03-12T20:40:31.110474Z",
     "iopub.status.idle": "2024-03-12T20:40:52.109728Z",
     "shell.execute_reply": "2024-03-12T20:40:52.108808Z"
    },
    "papermill": {
     "duration": 21.006696,
     "end_time": "2024-03-12T20:40:52.111805",
     "exception": false,
     "start_time": "2024-03-12T20:40:31.105109",
     "status": "completed"
    },
    "tags": []
   },
   "outputs": [
    {
     "name": "stderr",
     "output_type": "stream",
     "text": [
      "2024-03-12 20:40:40.128613: E external/local_xla/xla/stream_executor/cuda/cuda_dnn.cc:9261] Unable to register cuDNN factory: Attempting to register factory for plugin cuDNN when one has already been registered\n",
      "2024-03-12 20:40:40.128710: E external/local_xla/xla/stream_executor/cuda/cuda_fft.cc:607] Unable to register cuFFT factory: Attempting to register factory for plugin cuFFT when one has already been registered\n",
      "2024-03-12 20:40:40.293118: E external/local_xla/xla/stream_executor/cuda/cuda_blas.cc:1515] Unable to register cuBLAS factory: Attempting to register factory for plugin cuBLAS when one has already been registered\n"
     ]
    },
    {
     "data": {
      "text/plain": [
       "<module 'utils' from '/kaggle/usr/lib/utils/utils.py'>"
      ]
     },
     "execution_count": 1,
     "metadata": {},
     "output_type": "execute_result"
    }
   ],
   "source": [
    "import numpy as np\n",
    "import pandas as pd\n",
    "import torch\n",
    "from importlib import reload\n",
    "from tqdm.auto import tqdm\n",
    "from pathlib import Path\n",
    "import utils\n",
    "reload(utils)\n"
   ]
  },
  {
   "cell_type": "code",
   "execution_count": 2,
   "id": "5077be63",
   "metadata": {
    "execution": {
     "iopub.execute_input": "2024-03-12T20:40:52.120664Z",
     "iopub.status.busy": "2024-03-12T20:40:52.120142Z",
     "iopub.status.idle": "2024-03-12T20:40:52.125946Z",
     "shell.execute_reply": "2024-03-12T20:40:52.125025Z"
    },
    "papermill": {
     "duration": 0.012067,
     "end_time": "2024-03-12T20:40:52.127769",
     "exception": false,
     "start_time": "2024-03-12T20:40:52.115702",
     "status": "completed"
    },
    "tags": []
   },
   "outputs": [
    {
     "name": "stdout",
     "output_type": "stream",
     "text": [
      "cuda\n"
     ]
    }
   ],
   "source": [
    "BASE_PATH = Path(\"/kaggle/input/hms-harmful-brain-activity-classification\")\n",
    "SPEC_DIR = Path(\"/tmp/spectrograms_npy\") # where to save the spectrograms after converting to numpy\n",
    "utils.BASE_PATH = BASE_PATH\n",
    "utils.SPEC_DIR = SPEC_DIR\n",
    "\n",
    "DEVICE = torch.device(\"cuda\") if torch.cuda.is_available() else torch.device(\"cpu\")\n",
    "utils.DEVICE = DEVICE\n",
    "print(DEVICE)\n"
   ]
  },
  {
   "cell_type": "code",
   "execution_count": 3,
   "id": "fb038145",
   "metadata": {
    "execution": {
     "iopub.execute_input": "2024-03-12T20:40:52.136058Z",
     "iopub.status.busy": "2024-03-12T20:40:52.135782Z",
     "iopub.status.idle": "2024-03-12T20:40:52.778875Z",
     "shell.execute_reply": "2024-03-12T20:40:52.778097Z"
    },
    "papermill": {
     "duration": 0.649775,
     "end_time": "2024-03-12T20:40:52.781195",
     "exception": false,
     "start_time": "2024-03-12T20:40:52.131420",
     "status": "completed"
    },
    "tags": []
   },
   "outputs": [],
   "source": [
    "# Define model:\n",
    "model = utils.Spectrogram_EfficientNet(frozen=False, download=False)\n",
    "\n",
    "# Load model from here:\n",
    "MODEL_PATH = \"/kaggle/input/spectrogram-efficientnetb0/pytorch/unfrozen-5000-items/2/spectrogram_effnetb0_unfrozen_5000_items.pt\"\n",
    "model.load_state_dict(torch.load(MODEL_PATH))\n",
    "model.to(DEVICE);"
   ]
  },
  {
   "cell_type": "markdown",
   "id": "04e83dc1",
   "metadata": {
    "papermill": {
     "duration": 0.003733,
     "end_time": "2024-03-12T20:40:52.789046",
     "exception": false,
     "start_time": "2024-03-12T20:40:52.785313",
     "status": "completed"
    },
    "tags": []
   },
   "source": [
    "## Everything below this point should be runnable without changes"
   ]
  },
  {
   "cell_type": "code",
   "execution_count": 4,
   "id": "8694ace9",
   "metadata": {
    "execution": {
     "iopub.execute_input": "2024-03-12T20:40:52.797439Z",
     "iopub.status.busy": "2024-03-12T20:40:52.797144Z",
     "iopub.status.idle": "2024-03-12T20:40:53.015434Z",
     "shell.execute_reply": "2024-03-12T20:40:53.014487Z"
    },
    "papermill": {
     "duration": 0.225174,
     "end_time": "2024-03-12T20:40:53.017831",
     "exception": false,
     "start_time": "2024-03-12T20:40:52.792657",
     "status": "completed"
    },
    "tags": []
   },
   "outputs": [
    {
     "name": "stdout",
     "output_type": "stream",
     "text": [
      "Created directory /tmp/spectrograms_npy/train_spectrograms\n",
      "Created directory /tmp/spectrograms_npy/test_spectrograms\n"
     ]
    }
   ],
   "source": [
    "metadata_test = utils.metadata_df(\"test\")\n",
    "metadata_test\n",
    "utils.create_spec_npy_dirs()\n",
    "for spec_id in metadata_test.spectrogram_id:\n",
    "    utils.process_spec(spec_id, split=\"test\")"
   ]
  },
  {
   "cell_type": "code",
   "execution_count": 5,
   "id": "343b93f2",
   "metadata": {
    "execution": {
     "iopub.execute_input": "2024-03-12T20:40:53.027847Z",
     "iopub.status.busy": "2024-03-12T20:40:53.027116Z",
     "iopub.status.idle": "2024-03-12T20:40:53.040171Z",
     "shell.execute_reply": "2024-03-12T20:40:53.039246Z"
    },
    "papermill": {
     "duration": 0.020405,
     "end_time": "2024-03-12T20:40:53.042481",
     "exception": false,
     "start_time": "2024-03-12T20:40:53.022076",
     "status": "completed"
    },
    "tags": []
   },
   "outputs": [
    {
     "data": {
      "text/html": [
       "<div>\n",
       "<style scoped>\n",
       "    .dataframe tbody tr th:only-of-type {\n",
       "        vertical-align: middle;\n",
       "    }\n",
       "\n",
       "    .dataframe tbody tr th {\n",
       "        vertical-align: top;\n",
       "    }\n",
       "\n",
       "    .dataframe thead th {\n",
       "        text-align: right;\n",
       "    }\n",
       "</style>\n",
       "<table border=\"1\" class=\"dataframe\">\n",
       "  <thead>\n",
       "    <tr style=\"text-align: right;\">\n",
       "      <th></th>\n",
       "      <th>spectrogram_id</th>\n",
       "      <th>eeg_id</th>\n",
       "      <th>patient_id</th>\n",
       "      <th>eeg_path</th>\n",
       "      <th>spec_path</th>\n",
       "      <th>spec_npy_path</th>\n",
       "    </tr>\n",
       "  </thead>\n",
       "  <tbody>\n",
       "    <tr>\n",
       "      <th>0</th>\n",
       "      <td>853520</td>\n",
       "      <td>3911565283</td>\n",
       "      <td>6885</td>\n",
       "      <td>/kaggle/input/hms-harmful-brain-activity-class...</td>\n",
       "      <td>/kaggle/input/hms-harmful-brain-activity-class...</td>\n",
       "      <td>/tmp/spectrograms_npy/test_spectrograms/853520...</td>\n",
       "    </tr>\n",
       "  </tbody>\n",
       "</table>\n",
       "</div>"
      ],
      "text/plain": [
       "   spectrogram_id      eeg_id  patient_id  \\\n",
       "0          853520  3911565283        6885   \n",
       "\n",
       "                                            eeg_path  \\\n",
       "0  /kaggle/input/hms-harmful-brain-activity-class...   \n",
       "\n",
       "                                           spec_path  \\\n",
       "0  /kaggle/input/hms-harmful-brain-activity-class...   \n",
       "\n",
       "                                       spec_npy_path  \n",
       "0  /tmp/spectrograms_npy/test_spectrograms/853520...  "
      ]
     },
     "execution_count": 5,
     "metadata": {},
     "output_type": "execute_result"
    }
   ],
   "source": [
    "metadata_test"
   ]
  },
  {
   "cell_type": "code",
   "execution_count": 6,
   "id": "65089123",
   "metadata": {
    "execution": {
     "iopub.execute_input": "2024-03-12T20:40:53.053186Z",
     "iopub.status.busy": "2024-03-12T20:40:53.052856Z",
     "iopub.status.idle": "2024-03-12T20:40:53.058084Z",
     "shell.execute_reply": "2024-03-12T20:40:53.057223Z"
    },
    "papermill": {
     "duration": 0.013341,
     "end_time": "2024-03-12T20:40:53.060566",
     "exception": false,
     "start_time": "2024-03-12T20:40:53.047225",
     "status": "completed"
    },
    "tags": []
   },
   "outputs": [],
   "source": [
    "from utils import SpectrogramTestDataset\n",
    "from torch.utils.data import DataLoader\n",
    "test_dset = SpectrogramTestDataset(metadata_test)\n",
    "test_loader = DataLoader(test_dset, batch_size=32, shuffle=False)"
   ]
  },
  {
   "cell_type": "code",
   "execution_count": 7,
   "id": "93f1c00b",
   "metadata": {
    "execution": {
     "iopub.execute_input": "2024-03-12T20:40:53.070365Z",
     "iopub.status.busy": "2024-03-12T20:40:53.069670Z",
     "iopub.status.idle": "2024-03-12T20:40:54.163998Z",
     "shell.execute_reply": "2024-03-12T20:40:54.163049Z"
    },
    "papermill": {
     "duration": 1.101502,
     "end_time": "2024-03-12T20:40:54.166230",
     "exception": false,
     "start_time": "2024-03-12T20:40:53.064728",
     "status": "completed"
    },
    "tags": []
   },
   "outputs": [
    {
     "name": "stderr",
     "output_type": "stream",
     "text": [
      "/opt/conda/lib/python3.10/site-packages/torchvision/transforms/functional.py:1603: UserWarning: The default value of the antialias parameter of all the resizing transforms (Resize(), RandomResizedCrop(), etc.) will change from None to True in v0.17, in order to be consistent across the PIL and Tensor backends. To suppress this warning, directly pass antialias=True (recommended, future default), antialias=None (current default, which means False for Tensors and True for PIL), or antialias=False (only works on Tensors - PIL will still use antialiasing). This also applies if you are using the inference transforms from the models weights: update the call to weights.transforms(antialias=True).\n",
      "  warnings.warn(\n"
     ]
    },
    {
     "name": "stdout",
     "output_type": "stream",
     "text": [
      "[[1.6331840e-04 2.0428864e-02 6.1101623e-02 1.5760459e-01 5.0435700e-02\n",
      "  7.1026599e-01]]\n"
     ]
    }
   ],
   "source": [
    "all_preds = []\n",
    "model.eval()\n",
    "for batch in test_loader:\n",
    "    with torch.inference_mode():\n",
    "        preds = model(batch[0].to(DEVICE))\n",
    "    preds = torch.softmax(preds, dim=1).cpu().numpy()\n",
    "    all_preds.append(preds)\n",
    "\n",
    "all_preds = np.vstack(all_preds)\n",
    "print(all_preds)"
   ]
  },
  {
   "cell_type": "code",
   "execution_count": 8,
   "id": "5402b1d4",
   "metadata": {
    "execution": {
     "iopub.execute_input": "2024-03-12T20:40:54.176294Z",
     "iopub.status.busy": "2024-03-12T20:40:54.176014Z",
     "iopub.status.idle": "2024-03-12T20:40:54.184330Z",
     "shell.execute_reply": "2024-03-12T20:40:54.183688Z"
    },
    "papermill": {
     "duration": 0.015366,
     "end_time": "2024-03-12T20:40:54.186104",
     "exception": false,
     "start_time": "2024-03-12T20:40:54.170738",
     "status": "completed"
    },
    "tags": []
   },
   "outputs": [],
   "source": [
    "preds_df = pd.DataFrame(columns=[\"seizure_vote\", \"lpd_vote\", \"gpd_vote\",\n",
    "                                 \"lrda_vote\", \"grda_vote\", \"other_vote\"],\n",
    "                        index=metadata_test.eeg_id,\n",
    "                        data=all_preds)\n",
    "preds_df.to_csv(\"submission.csv\")"
   ]
  },
  {
   "cell_type": "code",
   "execution_count": null,
   "id": "b6a6e0cc",
   "metadata": {
    "papermill": {
     "duration": 0.003882,
     "end_time": "2024-03-12T20:40:54.194054",
     "exception": false,
     "start_time": "2024-03-12T20:40:54.190172",
     "status": "completed"
    },
    "tags": []
   },
   "outputs": [],
   "source": []
  }
 ],
 "metadata": {
  "kaggle": {
   "accelerator": "nvidiaTeslaT4",
   "dataSources": [
    {
     "databundleVersionId": 7469972,
     "sourceId": 59093,
     "sourceType": "competition"
    },
    {
     "sourceId": 166704113,
     "sourceType": "kernelVersion"
    },
    {
     "modelInstanceId": 11640,
     "sourceId": 14056,
     "sourceType": "modelInstanceVersion"
    },
    {
     "modelInstanceId": 11640,
     "sourceId": 15845,
     "sourceType": "modelInstanceVersion"
    }
   ],
   "dockerImageVersionId": 30646,
   "isGpuEnabled": true,
   "isInternetEnabled": false,
   "language": "python",
   "sourceType": "notebook"
  },
  "kernelspec": {
   "display_name": "Python 3",
   "language": "python",
   "name": "python3"
  },
  "language_info": {
   "codemirror_mode": {
    "name": "ipython",
    "version": 3
   },
   "file_extension": ".py",
   "mimetype": "text/x-python",
   "name": "python",
   "nbconvert_exporter": "python",
   "pygments_lexer": "ipython3",
   "version": "3.10.13"
  },
  "papermill": {
   "default_parameters": {},
   "duration": 29.206804,
   "end_time": "2024-03-12T20:40:57.504407",
   "environment_variables": {},
   "exception": null,
   "input_path": "__notebook__.ipynb",
   "output_path": "__notebook__.ipynb",
   "parameters": {},
   "start_time": "2024-03-12T20:40:28.297603",
   "version": "2.5.0"
  }
 },
 "nbformat": 4,
 "nbformat_minor": 5
}
