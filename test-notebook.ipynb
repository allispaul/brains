{
 "cells": [
  {
   "cell_type": "code",
   "execution_count": 1,
   "id": "d3bf84f9",
   "metadata": {
    "_cell_guid": "b1076dfc-b9ad-4769-8c92-a6c4dae69d19",
    "_uuid": "8f2839f25d086af736a60e9eeb907d3b93b6e0e5",
    "execution": {
     "iopub.execute_input": "2024-02-03T00:53:57.635524Z",
     "iopub.status.busy": "2024-02-03T00:53:57.634989Z",
     "iopub.status.idle": "2024-02-03T00:54:01.049468Z",
     "shell.execute_reply": "2024-02-03T00:54:01.048264Z"
    },
    "papermill": {
     "duration": 3.421309,
     "end_time": "2024-02-03T00:54:01.051706",
     "exception": false,
     "start_time": "2024-02-03T00:53:57.630397",
     "status": "completed"
    },
    "tags": []
   },
   "outputs": [],
   "source": [
    "import numpy as np\n",
    "import matplotlib.pyplot as plt\n",
    "import pandas as pd\n",
    "import torch"
   ]
  },
  {
   "cell_type": "code",
   "execution_count": 2,
   "id": "beb88bb2",
   "metadata": {
    "execution": {
     "iopub.execute_input": "2024-02-03T00:54:01.057864Z",
     "iopub.status.busy": "2024-02-03T00:54:01.057071Z",
     "iopub.status.idle": "2024-02-03T00:54:01.062180Z",
     "shell.execute_reply": "2024-02-03T00:54:01.061079Z"
    },
    "papermill": {
     "duration": 0.01009,
     "end_time": "2024-02-03T00:54:01.063949",
     "exception": false,
     "start_time": "2024-02-03T00:54:01.053859",
     "status": "completed"
    },
    "tags": []
   },
   "outputs": [],
   "source": [
    "BASE_PATH = \"/kaggle/input/hms-harmful-brain-activity-classification\"\n",
    "class_names = ['Seizure', 'LPD', 'GPD', 'LRDA','GRDA', 'Other']\n",
    "label2name = dict(enumerate(class_names))\n",
    "name2label = {v:k for k, v in label2name.items()}"
   ]
  },
  {
   "cell_type": "markdown",
   "id": "1d4f7aee",
   "metadata": {
    "papermill": {
     "duration": 0.001527,
     "end_time": "2024-02-03T00:54:01.067231",
     "exception": false,
     "start_time": "2024-02-03T00:54:01.065704",
     "status": "completed"
    },
    "tags": []
   },
   "source": [
    "## Get data"
   ]
  },
  {
   "cell_type": "code",
   "execution_count": 3,
   "id": "21728e5f",
   "metadata": {
    "execution": {
     "iopub.execute_input": "2024-02-03T00:54:01.072250Z",
     "iopub.status.busy": "2024-02-03T00:54:01.071884Z",
     "iopub.status.idle": "2024-02-03T00:54:01.395220Z",
     "shell.execute_reply": "2024-02-03T00:54:01.394087Z"
    },
    "papermill": {
     "duration": 0.328828,
     "end_time": "2024-02-03T00:54:01.397700",
     "exception": false,
     "start_time": "2024-02-03T00:54:01.068872",
     "status": "completed"
    },
    "tags": []
   },
   "outputs": [
    {
     "data": {
      "text/html": [
       "<div>\n",
       "<style scoped>\n",
       "    .dataframe tbody tr th:only-of-type {\n",
       "        vertical-align: middle;\n",
       "    }\n",
       "\n",
       "    .dataframe tbody tr th {\n",
       "        vertical-align: top;\n",
       "    }\n",
       "\n",
       "    .dataframe thead th {\n",
       "        text-align: right;\n",
       "    }\n",
       "</style>\n",
       "<table border=\"1\" class=\"dataframe\">\n",
       "  <thead>\n",
       "    <tr style=\"text-align: right;\">\n",
       "      <th></th>\n",
       "      <th>eeg_id</th>\n",
       "      <th>eeg_sub_id</th>\n",
       "      <th>eeg_label_offset_seconds</th>\n",
       "      <th>spectrogram_id</th>\n",
       "      <th>spectrogram_sub_id</th>\n",
       "      <th>spectrogram_label_offset_seconds</th>\n",
       "      <th>label_id</th>\n",
       "      <th>patient_id</th>\n",
       "      <th>expert_consensus</th>\n",
       "      <th>seizure_vote</th>\n",
       "      <th>lpd_vote</th>\n",
       "      <th>gpd_vote</th>\n",
       "      <th>lrda_vote</th>\n",
       "      <th>grda_vote</th>\n",
       "      <th>other_vote</th>\n",
       "      <th>eeg_path</th>\n",
       "      <th>spec_path</th>\n",
       "      <th>class_name</th>\n",
       "      <th>class_label</th>\n",
       "    </tr>\n",
       "  </thead>\n",
       "  <tbody>\n",
       "    <tr>\n",
       "      <th>0</th>\n",
       "      <td>1628180742</td>\n",
       "      <td>0</td>\n",
       "      <td>0.0</td>\n",
       "      <td>353733</td>\n",
       "      <td>0</td>\n",
       "      <td>0.0</td>\n",
       "      <td>127492639</td>\n",
       "      <td>42516</td>\n",
       "      <td>Seizure</td>\n",
       "      <td>3</td>\n",
       "      <td>0</td>\n",
       "      <td>0</td>\n",
       "      <td>0</td>\n",
       "      <td>0</td>\n",
       "      <td>0</td>\n",
       "      <td>/kaggle/input/hms-harmful-brain-activity-class...</td>\n",
       "      <td>/kaggle/input/hms-harmful-brain-activity-class...</td>\n",
       "      <td>Seizure</td>\n",
       "      <td>0</td>\n",
       "    </tr>\n",
       "    <tr>\n",
       "      <th>1</th>\n",
       "      <td>1628180742</td>\n",
       "      <td>1</td>\n",
       "      <td>6.0</td>\n",
       "      <td>353733</td>\n",
       "      <td>1</td>\n",
       "      <td>6.0</td>\n",
       "      <td>3887563113</td>\n",
       "      <td>42516</td>\n",
       "      <td>Seizure</td>\n",
       "      <td>3</td>\n",
       "      <td>0</td>\n",
       "      <td>0</td>\n",
       "      <td>0</td>\n",
       "      <td>0</td>\n",
       "      <td>0</td>\n",
       "      <td>/kaggle/input/hms-harmful-brain-activity-class...</td>\n",
       "      <td>/kaggle/input/hms-harmful-brain-activity-class...</td>\n",
       "      <td>Seizure</td>\n",
       "      <td>0</td>\n",
       "    </tr>\n",
       "  </tbody>\n",
       "</table>\n",
       "</div>"
      ],
      "text/plain": [
       "       eeg_id  eeg_sub_id  eeg_label_offset_seconds  spectrogram_id  \\\n",
       "0  1628180742           0                       0.0          353733   \n",
       "1  1628180742           1                       6.0          353733   \n",
       "\n",
       "   spectrogram_sub_id  spectrogram_label_offset_seconds    label_id  \\\n",
       "0                   0                               0.0   127492639   \n",
       "1                   1                               6.0  3887563113   \n",
       "\n",
       "   patient_id expert_consensus  seizure_vote  lpd_vote  gpd_vote  lrda_vote  \\\n",
       "0       42516          Seizure             3         0         0          0   \n",
       "1       42516          Seizure             3         0         0          0   \n",
       "\n",
       "   grda_vote  other_vote                                           eeg_path  \\\n",
       "0          0           0  /kaggle/input/hms-harmful-brain-activity-class...   \n",
       "1          0           0  /kaggle/input/hms-harmful-brain-activity-class...   \n",
       "\n",
       "                                           spec_path class_name  class_label  \n",
       "0  /kaggle/input/hms-harmful-brain-activity-class...    Seizure            0  \n",
       "1  /kaggle/input/hms-harmful-brain-activity-class...    Seizure            0  "
      ]
     },
     "metadata": {},
     "output_type": "display_data"
    }
   ],
   "source": [
    "df = pd.read_csv(f'{BASE_PATH}/train.csv')\n",
    "df['eeg_path'] = f'{BASE_PATH}/train_eegs/'+df['eeg_id'].astype(str)+'.parquet'\n",
    "df['spec_path'] = f'{BASE_PATH}/train_spectrograms/'+df['spectrogram_id'].astype(str)+'.parquet'\n",
    "df['class_name'] = df.expert_consensus.copy()\n",
    "df['class_label'] = df.expert_consensus.map(name2label)\n",
    "display(df.head(2))"
   ]
  },
  {
   "cell_type": "raw",
   "id": "8340520c",
   "metadata": {
    "papermill": {
     "duration": 0.00205,
     "end_time": "2024-02-03T00:54:01.402188",
     "exception": false,
     "start_time": "2024-02-03T00:54:01.400138",
     "status": "completed"
    },
    "tags": []
   },
   "source": []
  }
 ],
 "metadata": {
  "kaggle": {
   "accelerator": "none",
   "dataSources": [
    {
     "databundleVersionId": 7469972,
     "sourceId": 59093,
     "sourceType": "competition"
    }
   ],
   "dockerImageVersionId": 30646,
   "isGpuEnabled": false,
   "isInternetEnabled": true,
   "language": "python",
   "sourceType": "notebook"
  },
  "kernelspec": {
   "display_name": "Python 3",
   "language": "python",
   "name": "python3"
  },
  "language_info": {
   "codemirror_mode": {
    "name": "ipython",
    "version": 3
   },
   "file_extension": ".py",
   "mimetype": "text/x-python",
   "name": "python",
   "nbconvert_exporter": "python",
   "pygments_lexer": "ipython3",
   "version": "3.10.13"
  },
  "papermill": {
   "default_parameters": {},
   "duration": 7.034473,
   "end_time": "2024-02-03T00:54:02.225873",
   "environment_variables": {},
   "exception": null,
   "input_path": "__notebook__.ipynb",
   "output_path": "__notebook__.ipynb",
   "parameters": {},
   "start_time": "2024-02-03T00:53:55.191400",
   "version": "2.5.0"
  }
 },
 "nbformat": 4,
 "nbformat_minor": 5
}
